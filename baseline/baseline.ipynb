{
  "cells": [
    {
      "cell_type": "markdown",
      "source": [
        "# CFT2018 contest baseline"
      ],
      "metadata": {}
    },
    {
      "cell_type": "code",
      "source": [
        "import pandas as pd\n",
        "import numpy as np"
      ],
      "outputs": [],
      "execution_count": 1,
      "metadata": {
        "ExecuteTime": {
          "end_time": "2018-09-28T15:08:15.854467Z",
          "start_time": "2018-09-28T15:08:15.317837Z"
        }
      }
    },
    {
      "cell_type": "markdown",
      "source": [
        "Загрузим данные."
      ],
      "metadata": {}
    },
    {
      "cell_type": "code",
      "source": [
        "train = pd.read_csv('data/train.csv')\n",
        "test = pd.read_csv('data/test.csv')"
      ],
      "outputs": [],
      "execution_count": 2,
      "metadata": {
        "ExecuteTime": {
          "end_time": "2018-09-28T15:08:26.273114Z",
          "start_time": "2018-09-28T15:08:15.857122Z"
        }
      }
    },
    {
      "cell_type": "code",
      "source": [
        "train.shape, test.shape"
      ],
      "outputs": [
        {
          "output_type": "execute_result",
          "execution_count": 3,
          "data": {
            "text/plain": [
              "((1991104, 5), (2767639, 3))"
            ]
          },
          "metadata": {}
        }
      ],
      "execution_count": 3,
      "metadata": {
        "ExecuteTime": {
          "end_time": "2018-09-28T15:08:26.288188Z",
          "start_time": "2018-09-28T15:08:26.275455Z"
        }
      }
    },
    {
      "cell_type": "code",
      "source": [
        "train.head()"
      ],
      "outputs": [
        {
          "output_type": "execute_result",
          "execution_count": 4,
          "data": {
            "text/html": [
              "<div>\n",
              "<style scoped>\n",
              "    .dataframe tbody tr th:only-of-type {\n",
              "        vertical-align: middle;\n",
              "    }\n",
              "\n",
              "    .dataframe tbody tr th {\n",
              "        vertical-align: top;\n",
              "    }\n",
              "\n",
              "    .dataframe thead th {\n",
              "        text-align: right;\n",
              "    }\n",
              "</style>\n",
              "<table border=\"1\" class=\"dataframe\">\n",
              "  <thead>\n",
              "    <tr style=\"text-align: right;\">\n",
              "      <th></th>\n",
              "      <th>id</th>\n",
              "      <th>fullname</th>\n",
              "      <th>country</th>\n",
              "      <th>target</th>\n",
              "      <th>fullname_true</th>\n",
              "    </tr>\n",
              "  </thead>\n",
              "  <tbody>\n",
              "    <tr>\n",
              "      <th>0</th>\n",
              "      <td>0</td>\n",
              "      <td>AKHMEDOV YGURIY</td>\n",
              "      <td>РОССИЯ</td>\n",
              "      <td>1</td>\n",
              "      <td>AKHMEDOV YURIY</td>\n",
              "    </tr>\n",
              "    <tr>\n",
              "      <th>1</th>\n",
              "      <td>1</td>\n",
              "      <td>ФОЗИЛОВ РАМИЛЬ ГУЛЛОВИЧ</td>\n",
              "      <td>РОССИЯ</td>\n",
              "      <td>1</td>\n",
              "      <td>ФОЗИЛОВ РАМИЛЬ ГУЛОВИЧ</td>\n",
              "    </tr>\n",
              "    <tr>\n",
              "      <th>2</th>\n",
              "      <td>2</td>\n",
              "      <td>ГОИБОВ АХЛИДДИН ШАМСУДИНОВИЧ</td>\n",
              "      <td>РОССИЯ</td>\n",
              "      <td>0</td>\n",
              "      <td>NaN</td>\n",
              "    </tr>\n",
              "    <tr>\n",
              "      <th>3</th>\n",
              "      <td>3</td>\n",
              "      <td>ХУСНЕУТДИНОВА МАРГАРИТА ФАХИМОВНА</td>\n",
              "      <td>РОССИЯ</td>\n",
              "      <td>1</td>\n",
              "      <td>ХУСНУТДИНОВА МАРГАРИТА ФАХИМОВНА</td>\n",
              "    </tr>\n",
              "    <tr>\n",
              "      <th>4</th>\n",
              "      <td>4</td>\n",
              "      <td>НОВОКШОНОВА ИННА ВЛАДИМИРОВНА</td>\n",
              "      <td>РОССИЯ</td>\n",
              "      <td>0</td>\n",
              "      <td>NaN</td>\n",
              "    </tr>\n",
              "  </tbody>\n",
              "</table>\n",
              "</div>"
            ],
            "text/plain": [
              "   id                           fullname country  target  \\\n",
              "0   0                    AKHMEDOV YGURIY  РОССИЯ       1   \n",
              "1   1            ФОЗИЛОВ РАМИЛЬ ГУЛЛОВИЧ  РОССИЯ       1   \n",
              "2   2       ГОИБОВ АХЛИДДИН ШАМСУДИНОВИЧ  РОССИЯ       0   \n",
              "3   3  ХУСНЕУТДИНОВА МАРГАРИТА ФАХИМОВНА  РОССИЯ       1   \n",
              "4   4      НОВОКШОНОВА ИННА ВЛАДИМИРОВНА  РОССИЯ       0   \n",
              "\n",
              "                      fullname_true  \n",
              "0                    AKHMEDOV YURIY  \n",
              "1            ФОЗИЛОВ РАМИЛЬ ГУЛОВИЧ  \n",
              "2                               NaN  \n",
              "3  ХУСНУТДИНОВА МАРГАРИТА ФАХИМОВНА  \n",
              "4                               NaN  "
            ]
          },
          "metadata": {}
        }
      ],
      "execution_count": 4,
      "metadata": {
        "ExecuteTime": {
          "end_time": "2018-09-28T15:08:26.337147Z",
          "start_time": "2018-09-28T15:08:26.299567Z"
        }
      }
    },
    {
      "cell_type": "code",
      "source": [
        "test.head()"
      ],
      "outputs": [
        {
          "output_type": "execute_result",
          "execution_count": 5,
          "data": {
            "text/html": [
              "<div>\n",
              "<style scoped>\n",
              "    .dataframe tbody tr th:only-of-type {\n",
              "        vertical-align: middle;\n",
              "    }\n",
              "\n",
              "    .dataframe tbody tr th {\n",
              "        vertical-align: top;\n",
              "    }\n",
              "\n",
              "    .dataframe thead th {\n",
              "        text-align: right;\n",
              "    }\n",
              "</style>\n",
              "<table border=\"1\" class=\"dataframe\">\n",
              "  <thead>\n",
              "    <tr style=\"text-align: right;\">\n",
              "      <th></th>\n",
              "      <th>id</th>\n",
              "      <th>fullname</th>\n",
              "      <th>country</th>\n",
              "    </tr>\n",
              "  </thead>\n",
              "  <tbody>\n",
              "    <tr>\n",
              "      <th>0</th>\n",
              "      <td>0</td>\n",
              "      <td>ХУДАШКУРОВА ГУЛЗХОДА БЕРДИЕВНА</td>\n",
              "      <td>УЗБЕКИСТАН</td>\n",
              "    </tr>\n",
              "    <tr>\n",
              "      <th>1</th>\n",
              "      <td>1</td>\n",
              "      <td>СВЕЖЕТЬФЛОГИСТОН АРСЕН</td>\n",
              "      <td>РОССИЯ</td>\n",
              "    </tr>\n",
              "    <tr>\n",
              "      <th>2</th>\n",
              "      <td>2</td>\n",
              "      <td>ГУЛОМОВА СОЖИДА САНАЕВНА</td>\n",
              "      <td>УЗБЕКИСТАН</td>\n",
              "    </tr>\n",
              "    <tr>\n",
              "      <th>3</th>\n",
              "      <td>3</td>\n",
              "      <td>КАМПЫШЕВА ГУЛЯИМ БЕЙСЕМБАЕВНА</td>\n",
              "      <td>КАЗАХСТАН</td>\n",
              "    </tr>\n",
              "    <tr>\n",
              "      <th>4</th>\n",
              "      <td>4</td>\n",
              "      <td>OROSUMEBTOV MIRLAN</td>\n",
              "      <td>РОССИЯ</td>\n",
              "    </tr>\n",
              "  </tbody>\n",
              "</table>\n",
              "</div>"
            ],
            "text/plain": [
              "   id                        fullname     country\n",
              "0   0  ХУДАШКУРОВА ГУЛЗХОДА БЕРДИЕВНА  УЗБЕКИСТАН\n",
              "1   1          СВЕЖЕТЬФЛОГИСТОН АРСЕН      РОССИЯ\n",
              "2   2        ГУЛОМОВА СОЖИДА САНАЕВНА  УЗБЕКИСТАН\n",
              "3   3   КАМПЫШЕВА ГУЛЯИМ БЕЙСЕМБАЕВНА   КАЗАХСТАН\n",
              "4   4              OROSUMEBTOV MIRLAN      РОССИЯ"
            ]
          },
          "metadata": {}
        }
      ],
      "execution_count": 5,
      "metadata": {
        "ExecuteTime": {
          "end_time": "2018-09-28T15:08:26.359745Z",
          "start_time": "2018-09-28T15:08:26.340957Z"
        }
      }
    },
    {
      "cell_type": "markdown",
      "source": [
        "### Определение корректности ФИО"
      ],
      "metadata": {}
    },
    {
      "cell_type": "markdown",
      "source": [
        "Начнём с первой задачи. Сгенерируем признаки на основе tf-idf-преобразования. Используем две версии: по словам (чтобы поймать популярные имена) и по тройкам символов (чтобы поймать опечатки)."
      ],
      "metadata": {}
    },
    {
      "cell_type": "code",
      "source": [
        "from sklearn.feature_extraction.text import TfidfVectorizer"
      ],
      "outputs": [],
      "execution_count": 6,
      "metadata": {
        "ExecuteTime": {
          "end_time": "2018-09-28T15:08:27.048050Z",
          "start_time": "2018-09-28T15:08:26.363489Z"
        }
      }
    },
    {
      "cell_type": "code",
      "source": [
        "vectorizer_word = TfidfVectorizer(analyzer='word', ngram_range=(1, 1))\n",
        "\n",
        "train_word = vectorizer_word.fit_transform(train.fullname)\n",
        "test_word = vectorizer_word.transform(test.fullname)"
      ],
      "outputs": [],
      "execution_count": 7,
      "metadata": {
        "ExecuteTime": {
          "end_time": "2018-09-28T15:09:08.156692Z",
          "start_time": "2018-09-28T15:08:27.051085Z"
        }
      }
    },
    {
      "cell_type": "code",
      "source": [
        "vectorizer_char = TfidfVectorizer(analyzer='char', ngram_range=(3, 3), min_df=5)\n",
        "\n",
        "train_char = vectorizer_char.fit_transform(train.fullname)\n",
        "test_char = vectorizer_char.transform(test.fullname)"
      ],
      "outputs": [],
      "execution_count": 8,
      "metadata": {
        "ExecuteTime": {
          "end_time": "2018-09-28T15:11:05.673165Z",
          "start_time": "2018-09-28T15:09:08.159075Z"
        }
      }
    },
    {
      "cell_type": "markdown",
      "source": [
        "Объединим признаки в одну матрицу."
      ],
      "metadata": {}
    },
    {
      "cell_type": "code",
      "source": [
        "from scipy.sparse import hstack\n",
        "from scipy.sparse import csr_matrix\n",
        "\n",
        "s_train = hstack([train_word, train_char])\n",
        "s_test = hstack([test_word, test_char])"
      ],
      "outputs": [],
      "execution_count": 9,
      "metadata": {
        "ExecuteTime": {
          "end_time": "2018-09-28T15:11:14.656668Z",
          "start_time": "2018-09-28T15:11:05.690398Z"
        }
      }
    },
    {
      "cell_type": "markdown",
      "source": [
        "Оценим качество на отложенной выборке. Обучать на таких признаках будем логистическую регрессию."
      ],
      "metadata": {}
    },
    {
      "cell_type": "code",
      "source": [
        "from sklearn.model_selection import train_test_split\n",
        "\n",
        "y_train = train['target'].values\n",
        "X_tr, X_ts, y_tr, y_ts = train_test_split(s_train, y_train, test_size=0.2, random_state=322)"
      ],
      "outputs": [],
      "execution_count": 10,
      "metadata": {
        "ExecuteTime": {
          "end_time": "2018-09-28T15:11:20.679365Z",
          "start_time": "2018-09-28T15:11:14.659097Z"
        }
      }
    },
    {
      "cell_type": "code",
      "source": [
        "from sklearn.linear_model import LogisticRegression\n",
        "\n",
        "model = LogisticRegression()\n",
        "model.fit(X_tr, y_tr)"
      ],
      "outputs": [
        {
          "output_type": "execute_result",
          "execution_count": 11,
          "data": {
            "text/plain": [
              "LogisticRegression(C=1.0, class_weight=None, dual=False, fit_intercept=True,\n",
              "          intercept_scaling=1, max_iter=100, multi_class='ovr', n_jobs=1,\n",
              "          penalty='l2', random_state=None, solver='liblinear', tol=0.0001,\n",
              "          verbose=0, warm_start=False)"
            ]
          },
          "metadata": {}
        }
      ],
      "execution_count": 11,
      "metadata": {
        "ExecuteTime": {
          "end_time": "2018-09-28T15:15:42.079606Z",
          "start_time": "2018-09-28T15:11:20.682606Z"
        }
      }
    },
    {
      "cell_type": "code",
      "source": [
        "from sklearn.metrics import recall_score, precision_score, f1_score\n",
        "\n",
        "y_predict = model.predict(X_ts)\n",
        "\n",
        "print('Recall:', recall_score(y_ts, y_predict, average='macro'))\n",
        "print('Precision:', precision_score(y_ts, y_predict, average='macro'))\n",
        "print('F1:', f1_score(y_ts, y_predict, average='macro'))"
      ],
      "outputs": [
        {
          "output_type": "stream",
          "name": "stdout",
          "text": [
            "Recall: 0.8946307143193054\n",
            "Precision: 0.9277103543759097\n",
            "F1: 0.9096538430602945\n"
          ]
        }
      ],
      "execution_count": 12,
      "metadata": {
        "ExecuteTime": {
          "end_time": "2018-09-28T15:15:42.449609Z",
          "start_time": "2018-09-28T15:15:42.082149Z"
        }
      }
    },
    {
      "cell_type": "markdown",
      "source": [
        "Обучим финальную версию для тестовой выборки и сделаем предсказание."
      ],
      "metadata": {}
    },
    {
      "cell_type": "code",
      "source": [
        "model = LogisticRegression()\n",
        "model.fit(s_train, y_train)\n",
        "\ntest['target'] = model.predict(s_test)"
      ],
      "outputs": [],
      "execution_count": 13,
      "metadata": {
        "ExecuteTime": {
          "end_time": "2018-09-28T15:21:16.553923Z",
          "start_time": "2018-09-28T15:15:42.452407Z"
        }
      }
    },
    {
      "cell_type": "markdown",
      "source": [
        "### Исправление опечаток"
      ],
      "metadata": {}
    },
    {
      "cell_type": "markdown",
      "source": [
        "Для коррекции опечаток воспользуемся open-source библиотекой ([github](https://github.com/mammothb/symspellpy)). Можно установить через pip. "
      ],
      "metadata": {}
    },
    {
      "cell_type": "code",
      "source": [
        "import symspellpy\n",
        "symspell = symspellpy.SymSpell()"
      ],
      "outputs": [],
      "execution_count": 14,
      "metadata": {
        "ExecuteTime": {
          "end_time": "2018-09-28T15:21:16.572464Z",
          "start_time": "2018-09-28T15:21:16.557896Z"
        }
      }
    },
    {
      "cell_type": "markdown",
      "source": [
        "Подготовим обучающую выборку для корректора. Добавим туда весь корректный train. На выходе нам нужно отдать файл с частотами слов."
      ],
      "metadata": {
        "ExecuteTime": {
          "end_time": "2018-09-28T07:27:31.258328Z",
          "start_time": "2018-09-28T07:27:31.254121Z"
        }
      }
    },
    {
      "cell_type": "code",
      "source": [
        "train.loc[train.target != 1, 'fullname_true'] = train.loc[train.target != 1, 'fullname'] \n",
        "dicts = [name for person in train.fullname_true for name in person.split(' ')]\n",
        "\n",
        "from collections import Counter\n",
        "name_freq = Counter(dicts)"
      ],
      "outputs": [],
      "execution_count": 15,
      "metadata": {
        "ExecuteTime": {
          "end_time": "2018-09-28T15:21:20.522407Z",
          "start_time": "2018-09-28T15:21:16.578262Z"
        }
      }
    },
    {
      "cell_type": "code",
      "source": [
        "with open('dictionary.txt', 'w') as f:\n",
        "    for name, freq in name_freq.items():\n",
        "        f.write('{} {}\\n'.format(name, freq))"
      ],
      "outputs": [],
      "execution_count": 16,
      "metadata": {
        "ExecuteTime": {
          "end_time": "2018-09-28T15:21:20.963273Z",
          "start_time": "2018-09-28T15:21:20.525224Z"
        }
      }
    },
    {
      "cell_type": "code",
      "source": [
        "!head dictionary.txt"
      ],
      "outputs": [
        {
          "output_type": "stream",
          "name": "stdout",
          "text": [
            "AKHMEDOV 381\r\n",
            "YURIY 98\r\n",
            "ФОЗИЛОВ 783\r\n",
            "РАМИЛЬ 2383\r\n",
            "ГУЛОВИЧ 190\r\n",
            "ГОИБОВ 482\r\n",
            "АХЛИДДИН 753\r\n",
            "ШАМСУДИНОВИЧ 183\r\n",
            "ХУСНУТДИНОВА 42\r\n",
            "МАРГАРИТА 1923\r\n"
          ]
        }
      ],
      "execution_count": 17,
      "metadata": {
        "ExecuteTime": {
          "end_time": "2018-09-28T15:21:21.134454Z",
          "start_time": "2018-09-28T15:21:20.965844Z"
        }
      }
    },
    {
      "cell_type": "markdown",
      "source": [
        "Загрузим словарь в модель."
      ],
      "metadata": {}
    },
    {
      "cell_type": "code",
      "source": [
        "symspell.load_dictionary('dictionary.txt', term_index=0, count_index=1)"
      ],
      "outputs": [
        {
          "output_type": "execute_result",
          "execution_count": 18,
          "data": {
            "text/plain": [
              "True"
            ]
          },
          "metadata": {}
        }
      ],
      "execution_count": 18,
      "metadata": {
        "ExecuteTime": {
          "end_time": "2018-09-28T15:22:26.990459Z",
          "start_time": "2018-09-28T15:21:21.137270Z"
        }
      }
    },
    {
      "cell_type": "markdown",
      "source": [
        "Будем проводить коррекцию по словам."
      ],
      "metadata": {}
    },
    {
      "cell_type": "code",
      "source": [
        "def correct(s):\n",
        "    def correct_word(w):\n",
        "        tmp = symspell.lookup(w, symspellpy.Verbosity.CLOSEST)\n",
        "        if len(tmp):\n",
        "            return tmp[0].term.upper()\n",
        "        else:\n",
        "            return w\n",
        "\n    return ' '.join([correct_word(word) for word in s.split(' ')])"
      ],
      "outputs": [],
      "execution_count": 19,
      "metadata": {
        "ExecuteTime": {
          "end_time": "2018-09-28T15:22:27.001643Z",
          "start_time": "2018-09-28T15:22:26.992818Z"
        }
      }
    },
    {
      "cell_type": "code",
      "source": [
        "%%time\n",
        "correct('КАРАБОЗОВа ЛАТИФ АЛИМАМАДОВИЧ')"
      ],
      "outputs": [
        {
          "output_type": "stream",
          "name": "stdout",
          "text": [
            "CPU times: user 1.85 ms, sys: 74 µs, total: 1.93 ms\n",
            "Wall time: 1.97 ms\n"
          ]
        },
        {
          "output_type": "execute_result",
          "execution_count": 20,
          "data": {
            "text/plain": [
              "'КАРАБОЗОВ ЛАТИФ АЛИМАМАДОВИЧ'"
            ]
          },
          "metadata": {}
        }
      ],
      "execution_count": 20,
      "metadata": {
        "ExecuteTime": {
          "end_time": "2018-09-28T15:22:27.019884Z",
          "start_time": "2018-09-28T15:22:27.005197Z"
        }
      }
    },
    {
      "cell_type": "markdown",
      "source": [
        "Посчитаем качество на train-выборке (переобученное!)"
      ],
      "metadata": {}
    },
    {
      "cell_type": "code",
      "source": [
        "train_1 = train.loc[train.target == 1].copy()\n",
        "train_1['fullname_corrected'] = train_1.fullname.apply(correct)"
      ],
      "outputs": [],
      "execution_count": 21,
      "metadata": {
        "ExecuteTime": {
          "end_time": "2018-09-28T15:36:03.752426Z",
          "start_time": "2018-09-28T15:22:27.023028Z"
        }
      }
    },
    {
      "cell_type": "code",
      "source": [
        "np.mean(train_1.fullname_true == train_1.fullname_corrected)"
      ],
      "outputs": [
        {
          "output_type": "execute_result",
          "execution_count": 22,
          "data": {
            "text/plain": [
              "0.8272597104120801"
            ]
          },
          "metadata": {}
        }
      ],
      "execution_count": 22,
      "metadata": {
        "ExecuteTime": {
          "end_time": "2018-09-28T15:36:03.932761Z",
          "start_time": "2018-09-28T15:36:03.754885Z"
        }
      }
    },
    {
      "cell_type": "markdown",
      "source": [
        "Скорректируем тестовую выборку."
      ],
      "metadata": {}
    },
    {
      "cell_type": "code",
      "source": [
        "test['fullname_true'] = None\n",
        "\ntest.loc[test.target == 1, 'fullname_true'] = test.loc[test.target == 1, 'fullname'].apply(correct)"
      ],
      "outputs": [],
      "execution_count": 23,
      "metadata": {
        "ExecuteTime": {
          "end_time": "2018-09-28T15:54:51.360225Z",
          "start_time": "2018-09-28T15:36:03.936022Z"
        }
      }
    },
    {
      "cell_type": "markdown",
      "source": [
        "Сохраним итоговый файл."
      ],
      "metadata": {}
    },
    {
      "cell_type": "code",
      "source": [
        "test[['id', 'target', 'fullname_true']].to_csv('submission_baseline.csv', index=False)"
      ],
      "outputs": [],
      "execution_count": 24,
      "metadata": {
        "ExecuteTime": {
          "end_time": "2018-09-28T15:55:00.607087Z",
          "start_time": "2018-09-28T15:54:51.362423Z"
        }
      }
    }
  ],
  "metadata": {
    "kernelspec": {
      "name": "python3",
      "language": "python",
      "display_name": "Python 3"
    },
    "language_info": {
      "name": "python",
      "version": "3.6.4",
      "mimetype": "text/x-python",
      "codemirror_mode": {
        "name": "ipython",
        "version": 3
      },
      "pygments_lexer": "ipython3",
      "nbconvert_exporter": "python",
      "file_extension": ".py"
    },
    "kernel_info": {
      "name": "python3"
    },
    "nteract": {
      "version": "0.11.7"
    }
  },
  "nbformat": 4,
  "nbformat_minor": 2
}